{
 "cells": [
  {
   "cell_type": "markdown",
   "metadata": {},
   "source": [
    "# Loading input from Dataset"
   ]
  },
  {
   "cell_type": "code",
   "execution_count": 1,
   "metadata": {},
   "outputs": [
    {
     "data": {
      "text/plain": [
       "'C:\\\\Users\\\\singh'"
      ]
     },
     "execution_count": 1,
     "metadata": {},
     "output_type": "execute_result"
    }
   ],
   "source": [
    "pwd"
   ]
  },
  {
   "cell_type": "code",
   "execution_count": 1,
   "metadata": {},
   "outputs": [],
   "source": [
    "import os"
   ]
  },
  {
   "cell_type": "code",
   "execution_count": 2,
   "metadata": {},
   "outputs": [],
   "source": [
    "path='C:\\\\Users\\\\singh'"
   ]
  },
  {
   "cell_type": "code",
   "execution_count": 3,
   "metadata": {},
   "outputs": [],
   "source": [
    "#data = os.listdir(path=\"datafm\")"
   ]
  },
  {
   "cell_type": "code",
   "execution_count": 4,
   "metadata": {},
   "outputs": [
    {
     "name": "stdout",
     "output_type": "stream",
     "text": [
      "{'with mask': 0, 'without mask': 1}\n",
      "['with mask', 'without mask']\n",
      "[0, 1]\n"
     ]
    }
   ],
   "source": [
    "data_path='datafm'\n",
    "categories=os.listdir(data_path)\n",
    "labels=[i for i in range(len(categories))]\n",
    "\n",
    "label_dict=dict(zip(categories,labels)) #empty dictionary\n",
    "\n",
    "print(label_dict)\n",
    "print(categories)\n",
    "print(labels)"
   ]
  },
  {
   "cell_type": "code",
   "execution_count": 5,
   "metadata": {},
   "outputs": [
    {
     "name": "stdout",
     "output_type": "stream",
     "text": [
      "Exception: OpenCV(3.4.2) c:\\miniconda3\\conda-bld\\opencv-suite_1534379934306\\work\\modules\\imgproc\\src\\color.hpp:253: error: (-215:Assertion failed) VScn::contains(scn) && VDcn::contains(dcn) && VDepth::contains(depth) in function 'cv::CvtHelper<struct cv::Set<3,4,-1>,struct cv::Set<1,-1,-1>,struct cv::Set<0,2,5>,2>::CvtHelper'\n",
      "\n",
      "Exception: OpenCV(3.4.2) c:\\miniconda3\\conda-bld\\opencv-suite_1534379934306\\work\\modules\\imgproc\\src\\color.hpp:253: error: (-215:Assertion failed) VScn::contains(scn) && VDcn::contains(dcn) && VDepth::contains(depth) in function 'cv::CvtHelper<struct cv::Set<3,4,-1>,struct cv::Set<1,-1,-1>,struct cv::Set<0,2,5>,2>::CvtHelper'\n",
      "\n"
     ]
    }
   ],
   "source": [
    "import cv2\n",
    "img_size=100\n",
    "data=[]\n",
    "target=[]\n",
    "\n",
    "\n",
    "for category in categories:\n",
    "    folder_path=os.path.join(data_path,category)\n",
    "    img_names=os.listdir(folder_path)\n",
    "        \n",
    "    for img_name in img_names:\n",
    "        img_path=os.path.join(folder_path,img_name)\n",
    "        img=cv2.imread(img_path)\n",
    "\n",
    "        try:\n",
    "            gray=cv2.cvtColor(img,cv2.COLOR_BGR2GRAY)           \n",
    "            #Coverting the image into gray scale\n",
    "            resized=cv2.resize(gray,(img_size,img_size))\n",
    "            #resizing the gray scale into 50x50, since we need a fixed common size for all the images in the dataset\n",
    "            data.append(resized)\n",
    "            target.append(label_dict[category])\n",
    "            #appending the image and the label(categorized) into the list (dataset)\n",
    "\n",
    "        except Exception as e:\n",
    "            print('Exception:',e)\n",
    "            #if any exception rasied, the exception will be printed here. And pass to the next image"
   ]
  },
  {
   "cell_type": "code",
   "execution_count": 6,
   "metadata": {},
   "outputs": [
    {
     "name": "stderr",
     "output_type": "stream",
     "text": [
      "Using TensorFlow backend.\n"
     ]
    }
   ],
   "source": [
    "import numpy as np\n",
    "\n",
    "data=np.array(data)/255.0\n",
    "data=np.reshape(data,(data.shape[0],img_size,img_size,1))\n",
    "target=np.array(target)\n",
    "\n",
    "from keras.utils import np_utils\n",
    "\n",
    "new_target=np_utils.to_categorical(target)"
   ]
  },
  {
   "cell_type": "code",
   "execution_count": 7,
   "metadata": {},
   "outputs": [],
   "source": [
    "\n",
    "np.save('data',data)\n",
    "np.save('target',new_target)"
   ]
  },
  {
   "cell_type": "code",
   "execution_count": 8,
   "metadata": {},
   "outputs": [],
   "source": [
    "\n",
    "data=np.load('data.npy')\n",
    "target=np.load('target.npy')"
   ]
  },
  {
   "cell_type": "markdown",
   "metadata": {},
   "source": [
    "# Building the Deep Learning Model"
   ]
  },
  {
   "cell_type": "code",
   "execution_count": 9,
   "metadata": {},
   "outputs": [],
   "source": [
    "\n",
    "from keras.models import Sequential\n",
    "from keras.layers import Dense,Activation,Flatten,Dropout\n",
    "from keras.layers import Conv2D,MaxPooling2D\n",
    "from keras.callbacks import ModelCheckpoint\n",
    "\n",
    "model=Sequential()\n",
    "\n",
    "model.add(Conv2D(200,(3,3),input_shape=data.shape[1:]))\n",
    "model.add(Activation('relu'))\n",
    "model.add(MaxPooling2D(pool_size=(2,2)))\n",
    "#The first CNN layer followed by Relu and MaxPooling layers\n",
    "\n",
    "model.add(Conv2D(100,(3,3)))\n",
    "model.add(Activation('relu'))\n",
    "model.add(MaxPooling2D(pool_size=(2,2)))\n",
    "#The second convolution layer followed by Relu and MaxPooling layers\n",
    "\n",
    "model.add(Flatten())\n",
    "model.add(Dropout(0.5))\n",
    "#Flatten layer to stack the output convolutions from second convolution layer\n",
    "model.add(Dense(50,activation='relu'))\n",
    "#Dense layer of 64 neurons\n",
    "model.add(Dense(2,activation='softmax'))\n",
    "#The Final layer with two outputs for two categories\n",
    "\n",
    "model.compile(loss='categorical_crossentropy',optimizer='adam',metrics=['accuracy'])\n",
    "model.save('model-1.model')"
   ]
  },
  {
   "cell_type": "code",
   "execution_count": 10,
   "metadata": {},
   "outputs": [],
   "source": [
    "from sklearn.model_selection import train_test_split\n",
    "\n",
    "train_data,test_data,train_target,test_target=train_test_split(data,target,test_size=0.1)"
   ]
  },
  {
   "cell_type": "code",
   "execution_count": 11,
   "metadata": {},
   "outputs": [
    {
     "name": "stdout",
     "output_type": "stream",
     "text": [
      "Train on 990 samples, validate on 248 samples\n",
      "Epoch 1/20\n",
      "990/990 [==============================] - 79s 80ms/step - loss: 0.7525 - accuracy: 0.5202 - val_loss: 0.6499 - val_accuracy: 0.6492\n",
      "Epoch 2/20\n",
      "990/990 [==============================] - 77s 77ms/step - loss: 0.6045 - accuracy: 0.6717 - val_loss: 0.5231 - val_accuracy: 0.7621\n",
      "Epoch 3/20\n",
      "990/990 [==============================] - 76s 77ms/step - loss: 0.4167 - accuracy: 0.8253 - val_loss: 0.3285 - val_accuracy: 0.8387\n",
      "Epoch 4/20\n",
      "990/990 [==============================] - 73s 74ms/step - loss: 0.3084 - accuracy: 0.8788 - val_loss: 0.3223 - val_accuracy: 0.8387\n",
      "Epoch 5/20\n",
      "990/990 [==============================] - 82s 83ms/step - loss: 0.2685 - accuracy: 0.9020 - val_loss: 0.2992 - val_accuracy: 0.9073\n",
      "Epoch 6/20\n",
      "990/990 [==============================] - 96s 97ms/step - loss: 0.2105 - accuracy: 0.9242 - val_loss: 0.2019 - val_accuracy: 0.9153\n",
      "Epoch 7/20\n",
      "990/990 [==============================] - 96s 97ms/step - loss: 0.1772 - accuracy: 0.9384 - val_loss: 0.2332 - val_accuracy: 0.9113\n",
      "Epoch 8/20\n",
      "990/990 [==============================] - 104s 105ms/step - loss: 0.1520 - accuracy: 0.9434 - val_loss: 0.1342 - val_accuracy: 0.9435\n",
      "Epoch 9/20\n",
      "990/990 [==============================] - 95s 96ms/step - loss: 0.1180 - accuracy: 0.9586 - val_loss: 0.1839 - val_accuracy: 0.9234\n",
      "Epoch 10/20\n",
      "990/990 [==============================] - 106s 107ms/step - loss: 0.1233 - accuracy: 0.9636 - val_loss: 0.1393 - val_accuracy: 0.9516\n",
      "Epoch 11/20\n",
      "990/990 [==============================] - 109s 110ms/step - loss: 0.1028 - accuracy: 0.9616 - val_loss: 0.1583 - val_accuracy: 0.9395\n",
      "Epoch 12/20\n",
      "990/990 [==============================] - 107s 108ms/step - loss: 0.1057 - accuracy: 0.9556 - val_loss: 0.1614 - val_accuracy: 0.9315\n",
      "Epoch 13/20\n",
      "990/990 [==============================] - 110s 112ms/step - loss: 0.0819 - accuracy: 0.9717 - val_loss: 0.1105 - val_accuracy: 0.9677\n",
      "Epoch 14/20\n",
      "990/990 [==============================] - 110s 111ms/step - loss: 0.0583 - accuracy: 0.9838 - val_loss: 0.1176 - val_accuracy: 0.9597\n",
      "Epoch 15/20\n",
      "990/990 [==============================] - 103s 104ms/step - loss: 0.0632 - accuracy: 0.9758 - val_loss: 0.1171 - val_accuracy: 0.9597\n",
      "Epoch 16/20\n",
      "990/990 [==============================] - 104s 105ms/step - loss: 0.0760 - accuracy: 0.9707 - val_loss: 0.1334 - val_accuracy: 0.9476\n",
      "Epoch 17/20\n",
      "990/990 [==============================] - 108s 109ms/step - loss: 0.0611 - accuracy: 0.9808 - val_loss: 0.0923 - val_accuracy: 0.9637\n",
      "Epoch 18/20\n",
      "990/990 [==============================] - 105s 106ms/step - loss: 0.0440 - accuracy: 0.9848 - val_loss: 0.1635 - val_accuracy: 0.9476\n",
      "Epoch 19/20\n",
      "990/990 [==============================] - 107s 108ms/step - loss: 0.0358 - accuracy: 0.9869 - val_loss: 0.1101 - val_accuracy: 0.9637\n",
      "Epoch 20/20\n",
      "990/990 [==============================] - 108s 109ms/step - loss: 0.0521 - accuracy: 0.9859 - val_loss: 0.1229 - val_accuracy: 0.9597\n"
     ]
    }
   ],
   "source": [
    "checkpoint = ModelCheckpoint('model-{epoch:03d}.model',monitor='val_loss',verbose=0,save_best_only=True,mode='auto')\n",
    "history=model.fit(train_data,train_target,epochs=20,callbacks=[checkpoint],validation_split=0.2)"
   ]
  },
  {
   "cell_type": "markdown",
   "metadata": {},
   "source": [
    "# Results:"
   ]
  },
  {
   "cell_type": "code",
   "execution_count": 12,
   "metadata": {},
   "outputs": [
    {
     "data": {
      "image/png": "[encoded data removed]",
      "text/plain": [
       "<Figure size 432x288 with 1 Axes>"
      ]
     },
     "metadata": {
      "needs_background": "light"
     },
     "output_type": "display_data"
    }
   ],
   "source": [
    "from matplotlib import pyplot as plt\n",
    "\n",
    "plt.plot(history.history['loss'],'r',label='training loss')\n",
    "plt.plot(history.history['val_loss'],label='validation loss')\n",
    "plt.xlabel('# epochs')\n",
    "plt.ylabel('loss')\n",
    "plt.legend()\n",
    "plt.show()"
   ]
  },
  {
   "cell_type": "code",
   "execution_count": 13,
   "metadata": {},
   "outputs": [
    {
     "data": {
      "image/png": "[encoded data removed]",
      "text/plain": [
       "<Figure size 432x288 with 1 Axes>"
      ]
     },
     "metadata": {
      "needs_background": "light"
     },
     "output_type": "display_data"
    }
   ],
   "source": [
    "plt.plot(history.history['accuracy'],'r',label='training accuracy')\n",
    "plt.plot(history.history['val_accuracy'],label='validation accuracy')\n",
    "plt.xlabel('# epochs')\n",
    "plt.ylabel('loss')\n",
    "plt.legend()\n",
    "plt.show()"
   ]
  },
  {
   "cell_type": "code",
   "execution_count": 14,
   "metadata": {},
   "outputs": [
    {
     "name": "stdout",
     "output_type": "stream",
     "text": [
      "138/138 [==============================] - 5s 35ms/step\n",
      "[0.17557063561094843, 0.9420289993286133]\n"
     ]
    }
   ],
   "source": [
    "print(model.evaluate(test_data,test_target))"
   ]
  },
  {
   "cell_type": "markdown",
   "metadata": {},
   "source": [
    "# Face detection: \n"
   ]
  },
  {
   "cell_type": "code",
   "execution_count": null,
   "metadata": {},
   "outputs": [],
   "source": [
    "from keras.models import load_model\n",
    "import cv2\n",
    "import numpy as np\n",
    "model = load_model('model-1.model')\n",
    "face_clsfr=cv2.CascadeClassifier('haarcascade_frontalface_default.xml')"
   ]
  },
  {
   "cell_type": "code",
   "execution_count": 28,
   "metadata": {},
   "outputs": [
    {
     "name": "stdout",
     "output_type": "stream",
     "text": [
      "True : The camera is ON\n"
     ]
    }
   ],
   "source": [
    "import cv2\n",
    "\n",
    "cap = cv2.VideoCapture(0);\n",
    "\n",
    "w = cap.get(cv2.CAP_PROP_FRAME_WIDTH)\n",
    "h = cap.get(cv2.CAP_PROP_FRAME_HEIGHT)\n",
    "\n",
    "fourcc = cv2.VideoWriter_fourcc(*'SVID')\n",
    "out = cv2.VideoWriter('output.avi',fourcc,20.0,(640,480))\n",
    "\n",
    "print(cap.isOpened(),\": The camera is ON\")\n",
    "while(cap.isOpened()):\n",
    "    ret, frame = cap.read()\n",
    "    if ret == True:\n",
    "        out.write(frame) \n",
    "        gray = cv2.cvtColor(frame,cv2.COLOR_BGR2GRAY)\n",
    "        cv2.imshow('frame',gray)\n",
    "    \n",
    "        if cv2.waitKey(1) == ord('p'):\n",
    "            break\n",
    "    else:\n",
    "        break\n",
    "\n",
    "cap.release()\n",
    "out.release()\n",
    "cv2.destroyAllWindows()"
   ]
  },
  {
   "cell_type": "markdown",
   "metadata": {},
   "source": [
    "# Face Mask Detection"
   ]
  },
  {
   "cell_type": "code",
   "execution_count": null,
   "metadata": {},
   "outputs": [],
   "source": [
    "# Test 2\n",
    "from keras.models import load_model\n",
    "import cv2\n",
    "import numpy as np\n",
    "model = load_model('model-3.model')\n",
    "face_cascade = cv2.CascadeClassifier('haarcascade_frontalface_default.xml')\n",
    "\n",
    "#video = 'vid.mp4'\n",
    "cap = cv2.VideoCapture(0);\n",
    "\n",
    "w = cap.get(cv2.CAP_PROP_FRAME_WIDTH)\n",
    "h = cap.get(cv2.CAP_PROP_FRAME_HEIGHT)\n",
    "\n",
    "labels_dict={0:'MASK',1:'NO MASK'}\n",
    "color_dict={0:(0,255,0),1:(0,0,255)}\n",
    "\n",
    "#fourcc = cv2.VideoWriter_fourcc(*'SVID')\n",
    "#out = cv2.VideoWriter('output.avi',fourcc,20.0,(640,480))\n",
    "\n",
    "print(cap.isOpened(),\": The camera is ON\")\n",
    "while(cap.isOpened()):\n",
    "    ret, img = cap.read()\n",
    "    if ret == True:\n",
    "        #out.write(frame) \n",
    "        gray = cv2.cvtColor(img,cv2.COLOR_BGR2GRAY)\n",
    "        faces=face_cascade.detectMultiScale(gray, 1.2,3)\n",
    "        \n",
    "        for (x, y, w, h) in faces:\n",
    "            \n",
    "            face_img=gray[y:y+w,x:x+w]\n",
    "            resized=cv2.resize(face_img,(100,100))\n",
    "            normalized=resized/255.0\n",
    "            reshaped=np.reshape(normalized,(1,100,100,1))\n",
    "            result=model.predict(reshaped)\n",
    "            label=np.argmax(result,axis=1)[0]\n",
    "      \n",
    "            cv2.rectangle(img,(x,y),(x+w,y+h),color_dict[label],2)\n",
    "            cv2.rectangle(img,(x,y-40),(x+w,y),color_dict[label],-1)\n",
    "            cv2.putText(img, labels_dict[label], (x, y-10),cv2.FONT_HERSHEY_SIMPLEX,0.8,(255,255,255),2)\n",
    "            cv2.imshow('frame',img)\n",
    "    \n",
    "        if cv2.waitKey(1) == ord('p'):\n",
    "            break\n",
    "    else:\n",
    "        break\n",
    "\n",
    "cap.release()\n",
    "#out.release()\n",
    "cv2.destroyAllWindows()\n"
   ]
  },
  {
   "cell_type": "code",
   "execution_count": null,
   "metadata": {},
   "outputs": [],
   "source": []
  }
 ],
 "metadata": {
  "kernelspec": {
   "display_name": "Python 3",
   "language": "python",
   "name": "python3"
  },
  "language_info": {
   "codemirror_mode": {
    "name": "ipython",
    "version": 3
   },
   "file_extension": ".py",
   "mimetype": "text/x-python",
   "name": "python",
   "nbconvert_exporter": "python",
   "pygments_lexer": "ipython3",
   "version": "3.7.9"
  }
 },
 "nbformat": 4,
 "nbformat_minor": 4
}
